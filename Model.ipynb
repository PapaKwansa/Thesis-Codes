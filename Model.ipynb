{
 "cells": [
  {
   "cell_type": "code",
   "execution_count": null,
   "id": "a339b57d",
   "metadata": {},
   "outputs": [],
   "source": [
    " conda install -c conda-forge vtkplotter"
   ]
  },
  {
   "cell_type": "code",
   "execution_count": null,
   "id": "9a685b31",
   "metadata": {},
   "outputs": [],
   "source": [
    "#imports \n",
    "from vtkplotter import*\n",
    "import pandas as pd\n",
    "from scipy.spatial import Delaunay\n",
    "import matplotlib.pyplot as plt\n",
    "import matplotlib.colors as colors\n",
    "import numpy as np\n",
    "embedWindow('k3d')"
   ]
  },
  {
   "cell_type": "code",
   "execution_count": null,
   "id": "fc02b756",
   "metadata": {},
   "outputs": [],
   "source": [
    "#load surfaces and import files from Github\n",
    "RHS=open(r'C:\\Users\\ERP\\anaconda3\\MLCodes\\Roosevelt_Hydrothermal_System_V.3.shp', \"r\")"
   ]
  },
  {
   "cell_type": "code",
   "execution_count": null,
   "id": "7de80964",
   "metadata": {},
   "outputs": [],
   "source": []
  }
 ],
 "metadata": {
  "kernelspec": {
   "display_name": "Python 3",
   "language": "python",
   "name": "python3"
  },
  "language_info": {
   "codemirror_mode": {
    "name": "ipython",
    "version": 3
   },
   "file_extension": ".py",
   "mimetype": "text/x-python",
   "name": "python",
   "nbconvert_exporter": "python",
   "pygments_lexer": "ipython3",
   "version": "3.8.8"
  }
 },
 "nbformat": 4,
 "nbformat_minor": 5
}
