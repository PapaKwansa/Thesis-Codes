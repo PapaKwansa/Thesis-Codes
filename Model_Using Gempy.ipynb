{
 "cells": [
  {
   "cell_type": "code",
   "execution_count": 4,
   "id": "632df7b3",
   "metadata": {},
   "outputs": [
    {
     "name": "stdout",
     "output_type": "stream",
     "text": [
      "Collecting gempyNote: you may need to restart the kernel to use updated packages.\n",
      "  Using cached gempy-2.2.12-py3-none-any.whl (409 kB)\n",
      "Requirement already satisfied: xarray==2022.3.0 in c:\\users\\erp\\anaconda3\\mlcodes\\lib\\site-packages (from gempy) (2022.3.0)\n",
      "Collecting pyqt5\n",
      "  Using cached PyQt5-5.15.7-cp37-abi3-win_amd64.whl (6.8 MB)\n",
      "Requirement already satisfied: pandas==1.3.4 in c:\\users\\erp\\anaconda3\\mlcodes\\lib\\site-packages (from gempy) (1.3.4)\n",
      "Requirement already satisfied: scikit-image>=0.17 in c:\\users\\erp\\anaconda3\\mlcodes\\lib\\site-packages (from gempy) (0.18.1)\n",
      "Requirement already satisfied: pyvista>=0.25 in c:\\users\\erp\\anaconda3\\mlcodes\\lib\\site-packages (from gempy) (0.36.1)\n",
      "Requirement already satisfied: numpy==1.21.6 in c:\\users\\erp\\anaconda3\\mlcodes\\lib\\site-packages (from gempy) (1.21.6)\n",
      "Requirement already satisfied: matplotlib in c:\\users\\erp\\anaconda3\\mlcodes\\lib\\site-packages (from gempy) (3.3.4)\n"
     ]
    },
    {
     "name": "stderr",
     "output_type": "stream",
     "text": [
      "ERROR: Could not install packages due to an OSError: [WinError 5] Access is denied: 'C:\\\\Users\\\\ERP\\\\anaconda3\\\\MLCodes\\\\Lib\\\\site-packages\\\\PyQt5\\\\QtCore.pyd'\n",
      "Consider using the `--user` option or check the permissions.\n",
      "\n"
     ]
    },
    {
     "name": "stdout",
     "output_type": "stream",
     "text": [
      "\n",
      "Requirement already satisfied: pyvistaqt in c:\\users\\erp\\anaconda3\\mlcodes\\lib\\site-packages (from gempy) (0.9.0)\n",
      "Requirement already satisfied: pytest in c:\\users\\erp\\anaconda3\\mlcodes\\lib\\site-packages (from gempy) (6.2.3)\n",
      "Requirement already satisfied: Theano>=1.0.4 in c:\\users\\erp\\anaconda3\\mlcodes\\lib\\site-packages (from gempy) (1.0.5)\n",
      "Requirement already satisfied: iPython in c:\\users\\erp\\anaconda3\\mlcodes\\lib\\site-packages (from gempy) (7.22.0)\n",
      "Requirement already satisfied: networkx in c:\\users\\erp\\anaconda3\\mlcodes\\lib\\site-packages (from gempy) (2.5)\n",
      "Requirement already satisfied: seaborn>=0.9 in c:\\users\\erp\\anaconda3\\mlcodes\\lib\\site-packages (from gempy) (0.11.1)\n",
      "Requirement already satisfied: python-dateutil>=2.7.3 in c:\\users\\erp\\anaconda3\\mlcodes\\lib\\site-packages (from pandas==1.3.4->gempy) (2.8.1)\n",
      "Requirement already satisfied: pytz>=2017.3 in c:\\users\\erp\\anaconda3\\mlcodes\\lib\\site-packages (from pandas==1.3.4->gempy) (2021.1)\n",
      "Requirement already satisfied: packaging>=20.0 in c:\\users\\erp\\anaconda3\\mlcodes\\lib\\site-packages (from xarray==2022.3.0->gempy) (20.9)\n",
      "Requirement already satisfied: pyparsing>=2.0.2 in c:\\users\\erp\\anaconda3\\mlcodes\\lib\\site-packages (from packaging>=20.0->xarray==2022.3.0->gempy) (2.4.7)\n",
      "Requirement already satisfied: six>=1.5 in c:\\users\\erp\\anaconda3\\mlcodes\\lib\\site-packages (from python-dateutil>=2.7.3->pandas==1.3.4->gempy) (1.15.0)\n",
      "Requirement already satisfied: vtk in c:\\users\\erp\\anaconda3\\mlcodes\\lib\\site-packages (from pyvista>=0.25->gempy) (9.2.2)\n",
      "Requirement already satisfied: imageio in c:\\users\\erp\\anaconda3\\mlcodes\\lib\\site-packages (from pyvista>=0.25->gempy) (2.9.0)\n",
      "Requirement already satisfied: appdirs in c:\\users\\erp\\anaconda3\\mlcodes\\lib\\site-packages (from pyvista>=0.25->gempy) (1.4.4)\n",
      "Requirement already satisfied: scooby>=0.5.1 in c:\\users\\erp\\anaconda3\\mlcodes\\lib\\site-packages (from pyvista>=0.25->gempy) (0.6.0)\n",
      "Requirement already satisfied: pillow in c:\\users\\erp\\anaconda3\\mlcodes\\lib\\site-packages (from pyvista>=0.25->gempy) (8.2.0)\n",
      "Requirement already satisfied: scipy>=1.0.1 in c:\\users\\erp\\anaconda3\\mlcodes\\lib\\site-packages (from scikit-image>=0.17->gempy) (1.6.2)\n",
      "Requirement already satisfied: tifffile>=2019.7.26 in c:\\users\\erp\\anaconda3\\mlcodes\\lib\\site-packages (from scikit-image>=0.17->gempy) (2021.4.8)\n",
      "Requirement already satisfied: PyWavelets>=1.1.1 in c:\\users\\erp\\anaconda3\\mlcodes\\lib\\site-packages (from scikit-image>=0.17->gempy) (1.1.1)\n",
      "Requirement already satisfied: kiwisolver>=1.0.1 in c:\\users\\erp\\anaconda3\\mlcodes\\lib\\site-packages (from matplotlib->gempy) (1.3.1)\n",
      "Requirement already satisfied: cycler>=0.10 in c:\\users\\erp\\anaconda3\\mlcodes\\lib\\site-packages (from matplotlib->gempy) (0.10.0)\n",
      "Requirement already satisfied: decorator>=4.3.0 in c:\\users\\erp\\anaconda3\\mlcodes\\lib\\site-packages (from networkx->gempy) (5.0.6)\n",
      "Requirement already satisfied: pygments in c:\\users\\erp\\anaconda3\\mlcodes\\lib\\site-packages (from iPython->gempy) (2.8.1)\n",
      "Requirement already satisfied: jedi>=0.16 in c:\\users\\erp\\anaconda3\\mlcodes\\lib\\site-packages (from iPython->gempy) (0.17.2)\n",
      "Requirement already satisfied: pickleshare in c:\\users\\erp\\anaconda3\\mlcodes\\lib\\site-packages (from iPython->gempy) (0.7.5)\n",
      "Requirement already satisfied: prompt-toolkit!=3.0.0,!=3.0.1,<3.1.0,>=2.0.0 in c:\\users\\erp\\anaconda3\\mlcodes\\lib\\site-packages (from iPython->gempy) (3.0.17)\n",
      "Requirement already satisfied: backcall in c:\\users\\erp\\anaconda3\\mlcodes\\lib\\site-packages (from iPython->gempy) (0.2.0)\n",
      "Requirement already satisfied: traitlets>=4.2 in c:\\users\\erp\\anaconda3\\mlcodes\\lib\\site-packages (from iPython->gempy) (5.0.5)\n",
      "Requirement already satisfied: setuptools>=18.5 in c:\\users\\erp\\anaconda3\\mlcodes\\lib\\site-packages (from iPython->gempy) (52.0.0.post20210125)\n",
      "Requirement already satisfied: colorama in c:\\users\\erp\\anaconda3\\mlcodes\\lib\\site-packages (from iPython->gempy) (0.4.4)\n",
      "Requirement already satisfied: parso<0.8.0,>=0.7.0 in c:\\users\\erp\\anaconda3\\mlcodes\\lib\\site-packages (from jedi>=0.16->iPython->gempy) (0.7.0)\n",
      "Requirement already satisfied: wcwidth in c:\\users\\erp\\anaconda3\\mlcodes\\lib\\site-packages (from prompt-toolkit!=3.0.0,!=3.0.1,<3.1.0,>=2.0.0->iPython->gempy) (0.2.5)\n",
      "Requirement already satisfied: ipython-genutils in c:\\users\\erp\\anaconda3\\mlcodes\\lib\\site-packages (from traitlets>=4.2->iPython->gempy) (0.2.0)\n",
      "Requirement already satisfied: PyQt5-Qt5>=5.15.0 in c:\\users\\erp\\anaconda3\\mlcodes\\lib\\site-packages (from pyqt5->gempy) (5.15.2)\n",
      "Requirement already satisfied: PyQt5-sip<13,>=12.11 in c:\\users\\erp\\anaconda3\\mlcodes\\lib\\site-packages (from pyqt5->gempy) (12.11.0)\n",
      "Requirement already satisfied: attrs>=19.2.0 in c:\\users\\erp\\anaconda3\\mlcodes\\lib\\site-packages (from pytest->gempy) (20.3.0)\n",
      "Requirement already satisfied: iniconfig in c:\\users\\erp\\anaconda3\\mlcodes\\lib\\site-packages (from pytest->gempy) (1.1.1)\n",
      "Requirement already satisfied: pluggy<1.0.0a1,>=0.12 in c:\\users\\erp\\anaconda3\\mlcodes\\lib\\site-packages (from pytest->gempy) (0.13.1)\n",
      "Requirement already satisfied: py>=1.8.2 in c:\\users\\erp\\anaconda3\\mlcodes\\lib\\site-packages (from pytest->gempy) (1.10.0)\n",
      "Requirement already satisfied: toml in c:\\users\\erp\\anaconda3\\mlcodes\\lib\\site-packages (from pytest->gempy) (0.10.2)\n",
      "Requirement already satisfied: atomicwrites>=1.0 in c:\\users\\erp\\anaconda3\\mlcodes\\lib\\site-packages (from pytest->gempy) (1.4.0)\n",
      "Requirement already satisfied: QtPy>=1.9.0 in c:\\users\\erp\\anaconda3\\mlcodes\\lib\\site-packages (from pyvistaqt->gempy) (1.9.0)\n",
      "Requirement already satisfied: wslink>=1.0.4 in c:\\users\\erp\\anaconda3\\mlcodes\\lib\\site-packages (from vtk->pyvista>=0.25->gempy) (1.8.2)\n",
      "Requirement already satisfied: aiohttp<4 in c:\\users\\erp\\anaconda3\\mlcodes\\lib\\site-packages (from wslink>=1.0.4->vtk->pyvista>=0.25->gempy) (3.8.3)\n",
      "Requirement already satisfied: async-timeout<5.0,>=4.0.0a3 in c:\\users\\erp\\anaconda3\\mlcodes\\lib\\site-packages (from aiohttp<4->wslink>=1.0.4->vtk->pyvista>=0.25->gempy) (4.0.2)\n",
      "Requirement already satisfied: aiosignal>=1.1.2 in c:\\users\\erp\\anaconda3\\mlcodes\\lib\\site-packages (from aiohttp<4->wslink>=1.0.4->vtk->pyvista>=0.25->gempy) (1.2.0)\n",
      "Requirement already satisfied: multidict<7.0,>=4.5 in c:\\users\\erp\\anaconda3\\mlcodes\\lib\\site-packages (from aiohttp<4->wslink>=1.0.4->vtk->pyvista>=0.25->gempy) (6.0.2)\n",
      "Requirement already satisfied: yarl<2.0,>=1.0 in c:\\users\\erp\\anaconda3\\mlcodes\\lib\\site-packages (from aiohttp<4->wslink>=1.0.4->vtk->pyvista>=0.25->gempy) (1.8.1)\n",
      "Requirement already satisfied: frozenlist>=1.1.1 in c:\\users\\erp\\anaconda3\\mlcodes\\lib\\site-packages (from aiohttp<4->wslink>=1.0.4->vtk->pyvista>=0.25->gempy) (1.3.1)\n",
      "Requirement already satisfied: charset-normalizer<3.0,>=2.0 in c:\\users\\erp\\anaconda3\\mlcodes\\lib\\site-packages (from aiohttp<4->wslink>=1.0.4->vtk->pyvista>=0.25->gempy) (2.1.1)\n",
      "Requirement already satisfied: idna>=2.0 in c:\\users\\erp\\anaconda3\\mlcodes\\lib\\site-packages (from yarl<2.0,>=1.0->aiohttp<4->wslink>=1.0.4->vtk->pyvista>=0.25->gempy) (2.10)\n",
      "Installing collected packages: pyqt5, gempy\n"
     ]
    }
   ],
   "source": [
    "pip install gempy"
   ]
  },
  {
   "cell_type": "code",
   "execution_count": 7,
   "id": "c036166c",
   "metadata": {},
   "outputs": [
    {
     "ename": "ModuleNotFoundError",
     "evalue": "No module named 'gempy'",
     "output_type": "error",
     "traceback": [
      "\u001b[1;31m---------------------------------------------------------------------------\u001b[0m",
      "\u001b[1;31mModuleNotFoundError\u001b[0m                       Traceback (most recent call last)",
      "\u001b[1;32m<ipython-input-7-041da87106af>\u001b[0m in \u001b[0;36m<module>\u001b[1;34m\u001b[0m\n\u001b[1;32m----> 1\u001b[1;33m \u001b[1;32mimport\u001b[0m \u001b[0mgempy\u001b[0m \u001b[1;32mas\u001b[0m \u001b[0mgp\u001b[0m\u001b[1;33m\u001b[0m\u001b[1;33m\u001b[0m\u001b[0m\n\u001b[0m",
      "\u001b[1;31mModuleNotFoundError\u001b[0m: No module named 'gempy'"
     ]
    }
   ],
   "source": [
    "import gempy as gp"
   ]
  },
  {
   "cell_type": "code",
   "execution_count": null,
   "id": "54402417",
   "metadata": {},
   "outputs": [],
   "source": []
  }
 ],
 "metadata": {
  "kernelspec": {
   "display_name": "Python 3",
   "language": "python",
   "name": "python3"
  },
  "language_info": {
   "codemirror_mode": {
    "name": "ipython",
    "version": 3
   },
   "file_extension": ".py",
   "mimetype": "text/x-python",
   "name": "python",
   "nbconvert_exporter": "python",
   "pygments_lexer": "ipython3",
   "version": "3.8.8"
  }
 },
 "nbformat": 4,
 "nbformat_minor": 5
}
